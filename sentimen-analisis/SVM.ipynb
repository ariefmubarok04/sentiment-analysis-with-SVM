{
 "cells": [
  {
   "cell_type": "code",
   "execution_count": 3,
   "id": "f51f0469",
   "metadata": {},
   "outputs": [],
   "source": [
    "import pandas as pd\n",
    "# train Data\n",
    "trainData = pd.read_csv(\"https://raw.githubusercontent.com/Vasistareddy/sentiment_analysis/master/data/train.csv\")\n",
    "# test Data\n",
    "testData = pd.read_csv(\"https://raw.githubusercontent.com/Vasistareddy/sentiment_analysis/master/data/test.csv\")"
   ]
  },
  {
   "cell_type": "markdown",
   "id": "5b4b68c2",
   "metadata": {},
   "source": [
    "menggunakan library pandas untuk membaca dua dataset dari URL, yaitu data latih (train.csv) dan data uji (test.csv) yang digunakan dalam analisis sentimen. Dataset tersebut dimuat ke dalam dua variabel (trainData dan testData) dan berisi teks serta label sentimen yang nantinya akan digunakan untuk melatih dan menguji model klasifikasi seperti Support Vector Machine (SVM)."
   ]
  },
  {
   "cell_type": "code",
   "execution_count": 5,
   "id": "d359bb74",
   "metadata": {},
   "outputs": [],
   "source": [
    "from sklearn.feature_extraction.text import TfidfVectorizer\n",
    "# Create feature vectors\n",
    "vectorizer = TfidfVectorizer(min_df = 5,\n",
    "                             max_df = 0.8,\n",
    "                             sublinear_tf = True,\n",
    "                             use_idf = True)\n",
    "train_vectors = vectorizer.fit_transform(trainData['Content'])\n",
    "test_vectors = vectorizer.transform(testData['Content'])"
   ]
  },
  {
   "cell_type": "markdown",
   "id": "0e062ec0",
   "metadata": {},
   "source": [
    "menggunakan TfidfVectorizer dari library sklearn untuk mengubah teks dalam kolom 'Content' menjadi representasi numerik berbasis TF-IDF (Term Frequency-Inverse Document Frequency), yang memperhitungkan pentingnya kata dalam dokumen. Parameter min_df=5 mengabaikan kata yang muncul di kurang dari 5 dokumen, max_df=0.8 mengabaikan kata yang muncul di lebih dari 80% dokumen (kata umum), sublinear_tf=True dan use_idf=True memastikan penggunaan perhitungan TF yang disesuaikan dan pembobotan IDF. Hasilnya, teks dalam trainData dan testData diubah menjadi vektor numerik dan disimpan dalam train_vectors dan test_vectors, yang akan digunakan untuk melatih dan menguji model SVM."
   ]
  },
  {
   "cell_type": "code",
   "execution_count": 6,
   "id": "2258acee",
   "metadata": {},
   "outputs": [
    {
     "name": "stdout",
     "output_type": "stream",
     "text": [
      "Training time: 9.851142s; Prediction time: 0.908700s\n",
      "positive:  {'precision': 0.9191919191919192, 'recall': 0.91, 'f1-score': 0.914572864321608, 'support': 100.0}\n",
      "negative:  {'precision': 0.9108910891089109, 'recall': 0.92, 'f1-score': 0.9154228855721394, 'support': 100.0}\n"
     ]
    }
   ],
   "source": [
    "import time\n",
    "from sklearn import svm\n",
    "from sklearn.metrics import classification_report\n",
    "# Perform classification with SVM, kernel=linear\n",
    "classifier_linear = svm.SVC(kernel='linear')\n",
    "t0 = time.time()\n",
    "classifier_linear.fit(train_vectors, trainData['Label'])\n",
    "t1 = time.time()\n",
    "prediction_linear = classifier_linear.predict(test_vectors)\n",
    "t2 = time.time()\n",
    "time_linear_train = t1-t0\n",
    "time_linear_predict = t2-t1\n",
    "# results\n",
    "print(\"Training time: %fs; Prediction time: %fs\" % (time_linear_train, time_linear_predict))\n",
    "report = classification_report(testData['Label'], prediction_linear, output_dict=True)\n",
    "print('positive: ', report['pos'])\n",
    "print('negative: ', report['neg'])"
   ]
  },
  {
   "cell_type": "markdown",
   "id": "0eb53827",
   "metadata": {},
   "source": [
    "melakukan klasifikasi sentimen menggunakan algoritma Support Vector Machine (SVM) dengan kernel linear dari library sklearn. Model SVM dilatih menggunakan data train_vectors dan label sentimen trainData['Label'], serta diuji menggunakan test_vectors. Waktu pelatihan dan prediksi dicatat menggunakan modul time. Setelah prediksi dilakukan, hasil dievaluasi menggunakan classification_report untuk menampilkan metrik evaluasi (precision, recall, dan f1-score) untuk kelas positif dan negatif. Hasil akhir menunjukkan performa model dalam mengklasifikasi sentimen pada data uji."
   ]
  },
  {
   "cell_type": "code",
   "execution_count": 7,
   "id": "bd8f5d10",
   "metadata": {},
   "outputs": [],
   "source": [
    "import pickle\n",
    "# pickling the vectorizer\n",
    "pickle.dump(vectorizer, open('vectorizer.sav', 'wb'))\n",
    "# pickling the model\n",
    "pickle.dump(classifier_linear, open('classifier.sav', 'wb'))"
   ]
  },
  {
   "cell_type": "markdown",
   "id": "7733678b",
   "metadata": {},
   "source": [
    "Kode ini menyimpan (men-save) objek vectorizer dan model SVM (classifier_linear) yang telah dilatih ke dalam file menggunakan modul pickle, yaitu ke file vectorizer.sav dan classifier.sav. Proses ini disebut pickling, yang berguna agar model dan vectorizer bisa digunakan kembali di masa depan tanpa perlu melatih ulang, sehingga memudahkan implementasi dalam aplikasi atau sistem analisis sentimen secara langsung."
   ]
  }
 ],
 "metadata": {
  "kernelspec": {
   "display_name": ".venv",
   "language": "python",
   "name": "python3"
  },
  "language_info": {
   "codemirror_mode": {
    "name": "ipython",
    "version": 3
   },
   "file_extension": ".py",
   "mimetype": "text/x-python",
   "name": "python",
   "nbconvert_exporter": "python",
   "pygments_lexer": "ipython3",
   "version": "3.13.2"
  }
 },
 "nbformat": 4,
 "nbformat_minor": 5
}
